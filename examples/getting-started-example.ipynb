{
 "cells": [
  {
   "cell_type": "markdown",
   "id": "3ab68bdf",
   "metadata": {},
   "source": [
    "# OOD enablement with finetuned resnet18 model demo\n",
    "\n",
    "This demo will be using a pytorch resnet18 model finetuned on the hymenoptera dataset, a subset of ImageNet, as found in this official pytorch tutorial: \n",
    "[script](https://github.com/pytorch/tutorials/blob/main/beginner_source/transfer_learning_tutorial.py) \n",
    "and [documentation](https://pytorch.org/tutorials/beginner/transfer_learning_tutorial.html) from Pytorch. \n",
    "\n",
    "For this demo, the pretrained/finetuned model, as well as a subset of the indistrubtion dataset for OOD enablement can be downloaded from a public COS storage url: \n",
    "\n",
    "model: https://public-test-rhods.s3.us-east.cloud-object-storage.appdomain.cloud/model_ft_cpu_jit.pth\n",
    "\n",
    "indistribution-data: https://public-test-rhods.s3.us-east.cloud-object-storage.appdomain.cloud/hymenoptera_data.zip"
   ]
  },
  {
   "cell_type": "markdown",
   "id": "54e88420",
   "metadata": {},
   "source": [
    "# Import required libraries"
   ]
  },
  {
   "cell_type": "code",
   "execution_count": null,
   "id": "41a3d8a6",
   "metadata": {},
   "outputs": [],
   "source": [
    "import torch\n",
    "import torch.nn as nn\n",
    "import numpy as np\n",
    "import torchvision\n",
    "from torchvision import datasets, models, transforms\n",
    "import matplotlib.pyplot as plt\n",
    "import os\n",
    "from PIL import Image\n",
    "from tempfile import TemporaryDirectory\n",
    "from torch.utils.data import DataLoader\n",
    "from tensorflow.keras.utils import get_file\n",
    "\n",
    "import json\n",
    "import os\n",
    "import sys\n",
    "ood_path = os.path.abspath('../')\n",
    "if ood_path not in sys.path:\n",
    "    sys.path.append(ood_path)\n",
    "    \n",
    "from ood_enabler.ood_enabler import OODEnabler\n",
    "from ood_enabler.storage.model_store import ModelStore\n",
    "from ood_enabler.model_wrapper.pytorch import PytorchWrapper\n",
    "from ood_enabler.data.pytorch_image_data_handler import PytorchImageDataHandler\n",
    "from ood_enabler.storage.local_storage import FileSystemStorage\n",
    "from ood_enabler.util.constants import SavedModelFormat\n"
   ]
  },
  {
   "cell_type": "code",
   "execution_count": null,
   "id": "e2ece192",
   "metadata": {},
   "outputs": [],
   "source": [
    "def show_images(inputs):\n",
    "    w = 10\n",
    "    h = 10\n",
    "    fig = plt.figure(figsize=(20, 20))\n",
    "\n",
    "    columns = 5\n",
    "    rows = 1\n",
    "    for i in range(1, columns*rows +1):\n",
    "        img = inputs[i - 1].T\n",
    "        fig.add_subplot(rows, columns, i)\n",
    "        plt.imshow(img)\n",
    "    plt.show()"
   ]
  },
  {
   "cell_type": "markdown",
   "id": "57408235",
   "metadata": {},
   "source": [
    "# Define metadata for the model that will be used"
   ]
  },
  {
   "cell_type": "code",
   "execution_count": null,
   "id": "e8491c8f",
   "metadata": {},
   "outputs": [],
   "source": [
    "model_metadata = {'type': 'pytorch', 'arch': 'resnet18'}"
   ]
  },
  {
   "cell_type": "markdown",
   "id": "11eabfa3",
   "metadata": {},
   "source": [
    "# Download pretrained/finetuned resnet18 model and load from local storage"
   ]
  },
  {
   "cell_type": "code",
   "execution_count": null,
   "id": "143f366c",
   "metadata": {},
   "outputs": [],
   "source": [
    "model_url = \"https://public-test-rhods.s3.us-east.cloud-object-storage.appdomain.cloud/model_ft_cpu_jit.pth\"\n",
    "\n",
    "with TemporaryDirectory() as tmpdir:\n",
    "    model_path = get_file(origin=model_url, extract=False, fname=os.path.join(tmpdir, 'pretrained_model.pth')) \n",
    "    model_store = ModelStore.from_filesystem()\n",
    "    model = model_store.load(model_metadata, model_path)\n",
    "    "
   ]
  },
  {
   "cell_type": "markdown",
   "id": "d4e160ba",
   "metadata": {},
   "source": [
    "# Define metadata for the in-distribution dataset that will be used"
   ]
  },
  {
   "cell_type": "code",
   "execution_count": null,
   "id": "98f6e284",
   "metadata": {},
   "outputs": [],
   "source": [
    "ds_metadata = {'img_height': 224, 'img_width': 224, 'batch_size': 32, 'normalize': ([0.485, 0.456, 0.406], [0.229, 0.224, 0.225])}"
   ]
  },
  {
   "cell_type": "markdown",
   "id": "6641c10a",
   "metadata": {},
   "source": [
    "# Download in-distribution subset and load into data handler"
   ]
  },
  {
   "cell_type": "code",
   "execution_count": null,
   "id": "754005a8",
   "metadata": {},
   "outputs": [],
   "source": [
    "data_url = 'https://public-test-rhods.s3.us-east.cloud-object-storage.appdomain.cloud/hymenoptera_data.zip'\n",
    "data_path = get_file(origin=data_url, extract=False)\n",
    "\n",
    "local_store = FileSystemStorage()\n",
    "data_handler = PytorchImageDataHandler()\n",
    "data_handler.load_dataset(local_store, data_path, '.', ds_metadata)"
   ]
  },
  {
   "cell_type": "markdown",
   "id": "6f262733",
   "metadata": {},
   "source": [
    "# Enable model with OOD layer"
   ]
  },
  {
   "cell_type": "code",
   "execution_count": null,
   "id": "7d27292b",
   "metadata": {},
   "outputs": [],
   "source": [
    "OODEnabler.ood_enable(model, data_handler)"
   ]
  },
  {
   "cell_type": "markdown",
   "id": "37e2301e",
   "metadata": {},
   "source": [
    "# Download in-distribution samples to test OOD enablement and scoring"
   ]
  },
  {
   "cell_type": "code",
   "execution_count": null,
   "id": "09c8eb34",
   "metadata": {},
   "outputs": [],
   "source": [
    "id_sample_url = 'https://public-test-rhods.s3.us-east.cloud-object-storage.appdomain.cloud/hymenoptera2.json'\n",
    "\n",
    "with TemporaryDirectory() as tmpdir:\n",
    "    id_sample = get_file(origin=id_sample_url, extract=False, fname=os.path.join(tmpdir, 'id_sample.json'))\n",
    "    with open(id_sample, 'r') as f: \n",
    "        data = json.load(f)\n"
   ]
  },
  {
   "cell_type": "markdown",
   "id": "91becd26",
   "metadata": {},
   "source": [
    "# Review in-distribution samples to test OOD enablement and scoring"
   ]
  },
  {
   "cell_type": "code",
   "execution_count": null,
   "id": "3b41b5ae",
   "metadata": {},
   "outputs": [],
   "source": [
    "show_images(torch.Tensor(data['inputs'][0]['data']))"
   ]
  },
  {
   "cell_type": "markdown",
   "id": "78e73ccd",
   "metadata": {},
   "source": [
    "# Run inference through OOD-enabled model and review results\n",
    "### OOD scores in second tensor "
   ]
  },
  {
   "cell_type": "code",
   "execution_count": null,
   "id": "a90e9cdd",
   "metadata": {},
   "outputs": [],
   "source": [
    "model.model(torch.Tensor(data['inputs'][0]['data']))"
   ]
  },
  {
   "cell_type": "markdown",
   "id": "db0268e1",
   "metadata": {},
   "source": [
    "# Review out-of-distribution samples to test OOD enablement and scoring\n",
    "## 3 sample urls provided "
   ]
  },
  {
   "cell_type": "code",
   "execution_count": null,
   "id": "0e7a314d",
   "metadata": {},
   "outputs": [],
   "source": [
    "ood_sample_url = 'https://public-test-rhods.s3.us-east.cloud-object-storage.appdomain.cloud/flowers2.json'\n",
    "#ood_sample_url = 'https://public-test-rhods.s3.us-east.cloud-object-storage.appdomain.cloud/food101.json'\n",
    "#ood_sample_url = 'https://public-test-rhods.s3.us-east.cloud-object-storage.appdomain.cloud/cifar10.json'\n",
    "\n",
    "with TemporaryDirectory() as tmpdir:\n",
    "    ood_sample = get_file(origin=ood_sample_url, extract=False, fname=os.path.join(tmpdir, 'ood_sample.json'))\n",
    "    with open(ood_sample, 'r') as f: \n",
    "        data = json.load(f)"
   ]
  },
  {
   "cell_type": "markdown",
   "id": "0c797c79",
   "metadata": {},
   "source": [
    "# Review OOD samples to test OOD enablement and scoring"
   ]
  },
  {
   "cell_type": "code",
   "execution_count": null,
   "id": "4edffe57",
   "metadata": {},
   "outputs": [],
   "source": [
    "show_images(torch.Tensor(data['inputs'][0]['data']))"
   ]
  },
  {
   "cell_type": "markdown",
   "id": "6580199a",
   "metadata": {},
   "source": [
    "# Run inference through OOD-enabled model and review results\n",
    "### OOD scores in second tensor "
   ]
  },
  {
   "cell_type": "code",
   "execution_count": null,
   "id": "89f206b9",
   "metadata": {},
   "outputs": [],
   "source": [
    "model.model(torch.Tensor(data['inputs'][0]['data']))"
   ]
  },
  {
   "cell_type": "markdown",
   "id": "2f23c273",
   "metadata": {},
   "source": [
    "# Save OOD-enabled model"
   ]
  },
  {
   "cell_type": "code",
   "execution_count": null,
   "id": "7e8108ca",
   "metadata": {},
   "outputs": [],
   "source": [
    "model_store.upload(model, '.')"
   ]
  },
  {
   "cell_type": "code",
   "execution_count": null,
   "id": "e71eab3b",
   "metadata": {},
   "outputs": [],
   "source": []
  }
 ],
 "metadata": {
  "kernelspec": {
   "display_name": "ood",
   "language": "python",
   "name": "ood"
  },
  "language_info": {
   "codemirror_mode": {
    "name": "ipython",
    "version": 3
   },
   "file_extension": ".py",
   "mimetype": "text/x-python",
   "name": "python",
   "nbconvert_exporter": "python",
   "pygments_lexer": "ipython3",
   "version": "3.8.16"
  }
 },
 "nbformat": 4,
 "nbformat_minor": 5
}
